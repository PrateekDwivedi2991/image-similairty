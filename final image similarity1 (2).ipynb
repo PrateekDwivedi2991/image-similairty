{
 "cells": [
  {
   "cell_type": "code",
   "execution_count": 1,
   "metadata": {},
   "outputs": [],
   "source": [
    "from tensorflow.keras.models import Model\n",
    "from tensorflow.keras.layers import Dense\n",
    "from tensorflow.keras.layers import Input\n",
    "from tensorflow.keras.layers import Lambda\n",
    "from tensorflow.keras.datasets import mnist\n",
    "import tensorflow.keras.backend as K\n",
    "import matplotlib.pyplot as plt\n",
    "from tensorflow.keras.layers import MaxPooling2D\n",
    "from tensorflow.keras.layers import Conv2D\n",
    "from tensorflow.keras.layers import Dropout\n",
    "from tensorflow.keras.layers import GlobalAveragePooling2D\n",
    "import os\n",
    "import argparse\n",
    "import pandas as pd\n",
    "import random\n",
    "import cv2\n",
    "import random\n",
    "from tensorflow.keras.models import load_model\n",
    "from imutils.paths import list_images\n",
    "import matplotlib.pyplot as plt\n",
    "import numpy as np\n",
    "from sklearn.model_selection import train_test_split"
   ]
  },
  {
   "cell_type": "code",
   "execution_count": 2,
   "metadata": {},
   "outputs": [],
   "source": [
    "pix_val=255"
   ]
  },
  {
   "cell_type": "code",
   "execution_count": 3,
   "metadata": {},
   "outputs": [],
   "source": [
    "\n",
    "path=r\"C:\\Users\\dwive\\Desktop\\final_new_dataset\"\n",
    "pairs = []\n",
    "pairs_label=[]\n",
    "\n",
    "dir_nm = os.listdir(path)\n",
    "\n",
    "\"\"\"\n",
    "Negative Pair --> 0\n",
    "\"\"\"\n",
    "\n",
    "# directory looping\n",
    "for idx1 in range(0,len(dir_nm)):\n",
    "    for idx2 in range(idx1 + 1, len(dir_nm)):\n",
    "\n",
    "        first_path = os.path.join(path, dir_nm[idx1])\n",
    "        second_path = os.path.join(path, dir_nm[idx2])\n",
    "        # file looping\n",
    "        for first_file in os.listdir(first_path):\n",
    "            for second_file in os.listdir(second_path):\n",
    "#                     image_data_first_file = imageio.imread(os.path.join(first_path, first_file)).astype(float)\n",
    "#                     image_data_second_file=imageio.imread(os.path.join(second_path, second_file)).astype(float)\n",
    "#                     dataset = np.ndarray(shape=(len(image_files), height, width, channel),dtype=np.float32)\n",
    "                    image_data_first_file = cv2.cvtColor(cv2.imread(os.path.join(first_path, first_file)),cv2.COLOR_BGR2GRAY)/pix_val\n",
    "                    image_data_first_file=np.expand_dims(image_data_first_file, axis=-1)\n",
    "        \n",
    "                    image_data_second_file = cv2.cvtColor(cv2.imread(os.path.join(second_path, second_file)),cv2.COLOR_BGR2GRAY)/pix_val\n",
    "                    image_data_second_file=np.expand_dims(image_data_second_file, axis=-1)\n",
    "                   \n",
    "                    pairs.append([image_data_first_file,image_data_second_file])\n",
    "                    pairs_label.append([0])\n",
    "                \n",
    "\"\"\"\n",
    "Positive Pair --> 1\n",
    "\"\"\"\n",
    "# directory looping\n",
    "for idx1 in range(len(dir_nm)):\n",
    "    relative_dir_nm = os.path.join(path, dir_nm[idx1])\n",
    "\n",
    "    file_lst = os.listdir(relative_dir_nm)\n",
    "\n",
    "    # file looping\n",
    "    for idx2 in range(0, len(file_lst)):\n",
    "        for idx3 in range(idx2+1, len(file_lst)):\n",
    "#             img_data_first = imageio.imread(os.path.join(relative_dir_nm, file_lst[idx2])).astype(float)\n",
    "#             img_data_second =imageio.imread(os.path.join(relative_dir_nm, file_lst[idx3])).astype(float)\n",
    "                    img_data_first = cv2.cvtColor(cv2.imread(os.path.join(relative_dir_nm, file_lst[idx2])),cv2.COLOR_BGR2GRAY)/pix_val\n",
    "                    img_data_first=np.expand_dims(img_data_first, axis=-1)\n",
    "                    \n",
    "                    img_data_second = cv2.cvtColor(cv2.imread(os.path.join(relative_dir_nm, file_lst[idx3])),cv2.COLOR_BGR2GRAY)/pix_val\n",
    "                    img_data_second=np.expand_dims(img_data_second, axis=-1)\n",
    "                    \n",
    "                    pairs.append([img_data_first,img_data_second])\n",
    "                    pairs_label.append([1])\n",
    "\n",
    "random.shuffle(pairs)\n",
    "\n",
    "df_pairs = pd.DataFrame(pairs, columns=[\"filename_1\", \"filename_2\"])\n",
    "df_pairs_label=pd.DataFrame(pairs_label,columns=[\"pairs_label\"])\n",
    "\"\"\"\n",
    "Creating Database\n",
    "\"\"\"\n",
    "df_pairs.to_csv(\"data_file_pairs.csv\", encoding=\"utf-8\")\n",
    "df_pairs_label.to_csv(\"data_file_labels.csv\",encoding=\"utf-8\")\n",
    "\n",
    "# with open(\"data_filecv2ED.csv\", \"w\") as csv_ptr:\n",
    "#     # create the csv writer object\n",
    "#     csv_writer = csv.writer(csv_ptr)\n",
    "\n",
    "#     csv_writer.writerows(data)\n",
    "\n"
   ]
  },
  {
   "cell_type": "code",
   "execution_count": 4,
   "metadata": {},
   "outputs": [],
   "source": [
    "pairs_data=np.array(pairs)\n",
    "pairs_label_data=np.array(pairs_label)"
   ]
  },
  {
   "cell_type": "code",
   "execution_count": 5,
   "metadata": {},
   "outputs": [],
   "source": [
    "temp = list(zip(pairs_data, pairs_label_data)) \n",
    "random.shuffle(temp) \n",
    "res1_pairs, res2_labels = zip(*temp) \n",
    "r_pairs_data=np.array(res1_pairs)\n",
    "r_pairs_label=np.array(res2_labels)"
   ]
  },
  {
   "cell_type": "code",
   "execution_count": 6,
   "metadata": {},
   "outputs": [],
   "source": [
    "trainX,testX,trainY,testY = train_test_split(r_pairs_data,r_pairs_label, test_size=0.33, random_state=42)"
   ]
  },
  {
   "cell_type": "code",
   "execution_count": 7,
   "metadata": {},
   "outputs": [],
   "source": [
    "def build_siamese_model(inputShape,embeddingDim=48):\n",
    "\n",
    "    inputs=Input(inputShape) #inputs for the feature extarctor network\n",
    "    #first set oflayers\n",
    "    x=Conv2D(64,(2,2),padding=\"same\",activation=\"relu\")(inputs)\n",
    "    x=MaxPooling2D(pool_size=(2,2))(x)\n",
    "    x=Dropout(0.3)(x)\n",
    "    #second set of layers\n",
    "    x=Conv2D(64,(2,2),padding=\"same\",activation=\"relu\")(x)\n",
    "    x=MaxPooling2D(pool_size=2)(x)\n",
    "    x=Dropout(0.3)(x)\n",
    "    \n",
    "    pooledOutput=GlobalAveragePooling2D()(x)\n",
    "    outputs=Dense(embeddingDim)(pooledOutput)\n",
    "    model= Model(inputs,outputs)\n",
    "    \n",
    "    return model"
   ]
  },
  {
   "cell_type": "code",
   "execution_count": 8,
   "metadata": {},
   "outputs": [],
   "source": [
    "def plot_training(H,plotPath):\n",
    "    plt.style.use(\"ggplot\")\n",
    "    plt.figure()\n",
    "    plt.plot(H.history[\"loss\"],label=\"train_loss\")\n",
    "    plt.plot(H.history[\"val_loss\"],label=\"val_loss\")\n",
    "    plt.plot(H.history[\"accuracy\"],label=\"train_acc\")\n",
    "    plt.plot(H.history[\"val_accuracy\"],label=\"val_acc\")\n",
    "    plt.title(\"Training Loss and Accuracy\")\n",
    "    plt.xlabel(\"Epoch #\")\n",
    "    plt.ylabel(\"Loss/Accuracy\")\n",
    "    plt.legend(loc=\"lower left\")\n",
    "    plt.savefig(plotPath)"
   ]
  },
  {
   "cell_type": "code",
   "execution_count": 9,
   "metadata": {},
   "outputs": [],
   "source": [
    "IMG_SHAPE=(56,56,1)\n",
    "BATCH_SIZE=64\n",
    "EPOCHS=30"
   ]
  },
  {
   "cell_type": "code",
   "execution_count": 16,
   "metadata": {},
   "outputs": [],
   "source": [
    "BASE_OUTPUT=r\"C:\\Users\\dwive\\Desktop\\output\"\n",
    "MODEL_PATH=os.path.sep.join([BASE_OUTPUT,\"siamese_model\"])\n",
    "PLOT_PATH=os.path.sep.join([BASE_OUTPUT,\"plot.png\"])"
   ]
  },
  {
   "cell_type": "code",
   "execution_count": 11,
   "metadata": {},
   "outputs": [],
   "source": [
    "def euclidean_distance(vectors):\n",
    "    (featsA,featsB)=vectors\n",
    "    sumSquared=K.sum(K.square(featsA-featsB),axis=1,keepdims=True) \n",
    "    \n",
    "    return K.sqrt(K.maximum(sumSquared,K.epsilon()))"
   ]
  },
  {
   "cell_type": "code",
   "execution_count": 12,
   "metadata": {},
   "outputs": [
    {
     "name": "stdout",
     "output_type": "stream",
     "text": [
      "[INFO] building siamese network...\n"
     ]
    }
   ],
   "source": [
    "print(\"[INFO] building siamese network...\")\n",
    "imgA = Input(shape=IMG_SHAPE)\n",
    "imgB = Input(shape=IMG_SHAPE)\n",
    "featureExtractor = build_siamese_model(IMG_SHAPE)\n",
    "featsA = featureExtractor(imgA)\n",
    "featsB = featureExtractor(imgB)"
   ]
  },
  {
   "cell_type": "code",
   "execution_count": 13,
   "metadata": {},
   "outputs": [],
   "source": [
    "distance = Lambda(euclidean_distance)([featsA, featsB])\n",
    "outputs = Dense(1, activation=\"sigmoid\")(distance)\n",
    "model = Model(inputs=[imgA, imgB], outputs=outputs)"
   ]
  },
  {
   "cell_type": "code",
   "execution_count": 14,
   "metadata": {},
   "outputs": [
    {
     "name": "stdout",
     "output_type": "stream",
     "text": [
      "[INFO] compiling model...\n",
      "[INFO] training model...\n",
      "Epoch 1/30\n",
      "412/412 [==============================] - 198s 477ms/step - loss: 0.3072 - accuracy: 0.9623 - val_loss: 0.2346 - val_accuracy: 0.9620\n",
      "Epoch 2/30\n",
      "412/412 [==============================] - 208s 505ms/step - loss: 0.1749 - accuracy: 0.9619 - val_loss: 0.3333 - val_accuracy: 0.9620\n",
      "Epoch 3/30\n",
      "412/412 [==============================] - 249s 605ms/step - loss: 0.1638 - accuracy: 0.9629 - val_loss: 0.3429 - val_accuracy: 0.9620\n",
      "Epoch 4/30\n",
      "412/412 [==============================] - 251s 608ms/step - loss: 0.1722 - accuracy: 0.9602 - val_loss: 0.3442 - val_accuracy: 0.9620\n",
      "Epoch 5/30\n",
      "412/412 [==============================] - 246s 597ms/step - loss: 0.1826 - accuracy: 0.9570 - val_loss: 0.3980 - val_accuracy: 0.9620\n",
      "Epoch 6/30\n",
      "412/412 [==============================] - 210s 509ms/step - loss: 0.1736 - accuracy: 0.9594 - val_loss: 0.3798 - val_accuracy: 0.9620\n",
      "Epoch 7/30\n",
      "412/412 [==============================] - 213s 517ms/step - loss: 0.1684 - accuracy: 0.9609 - val_loss: 0.3826 - val_accuracy: 0.9620\n",
      "Epoch 8/30\n",
      "412/412 [==============================] - 207s 503ms/step - loss: 0.1704 - accuracy: 0.9599 - val_loss: 0.3346 - val_accuracy: 0.9620\n",
      "Epoch 9/30\n",
      "412/412 [==============================] - 192s 466ms/step - loss: 0.1645 - accuracy: 0.9622 - val_loss: 0.3820 - val_accuracy: 0.9620\n",
      "Epoch 10/30\n",
      "412/412 [==============================] - 209s 507ms/step - loss: 0.1621 - accuracy: 0.9631 - val_loss: 0.3914 - val_accuracy: 0.9620\n",
      "Epoch 11/30\n",
      "412/412 [==============================] - 216s 523ms/step - loss: 0.1603 - accuracy: 0.9633 - val_loss: 0.3370 - val_accuracy: 0.9620\n",
      "Epoch 12/30\n",
      "412/412 [==============================] - 239s 581ms/step - loss: 0.1678 - accuracy: 0.9612 - val_loss: 0.3619 - val_accuracy: 0.9620\n",
      "Epoch 13/30\n",
      "412/412 [==============================] - 251s 609ms/step - loss: 0.1664 - accuracy: 0.9612 - val_loss: 0.3812 - val_accuracy: 0.9620\n",
      "Epoch 14/30\n",
      "412/412 [==============================] - 219s 532ms/step - loss: 0.1725 - accuracy: 0.9595 - val_loss: 0.3604 - val_accuracy: 0.9620\n",
      "Epoch 15/30\n",
      "412/412 [==============================] - 226s 549ms/step - loss: 0.1615 - accuracy: 0.9627 - val_loss: 0.3752 - val_accuracy: 0.9620\n",
      "Epoch 16/30\n",
      "412/412 [==============================] - 228s 553ms/step - loss: 0.1651 - accuracy: 0.9614 - val_loss: 0.3643 - val_accuracy: 0.9620\n",
      "Epoch 17/30\n",
      "412/412 [==============================] - 248s 602ms/step - loss: 0.1696 - accuracy: 0.9601 - val_loss: 0.3172 - val_accuracy: 0.9620\n",
      "Epoch 18/30\n",
      "412/412 [==============================] - 224s 543ms/step - loss: 0.1672 - accuracy: 0.9614 - val_loss: 0.3411 - val_accuracy: 0.9620\n",
      "Epoch 19/30\n",
      "412/412 [==============================] - 232s 563ms/step - loss: 0.1674 - accuracy: 0.9610 - val_loss: 0.3407 - val_accuracy: 0.9620\n",
      "Epoch 20/30\n",
      "412/412 [==============================] - 211s 512ms/step - loss: 0.1646 - accuracy: 0.9620 - val_loss: 0.3464 - val_accuracy: 0.9620\n",
      "Epoch 21/30\n",
      "412/412 [==============================] - 245s 596ms/step - loss: 0.1684 - accuracy: 0.9606 - val_loss: 0.3382 - val_accuracy: 0.9620\n",
      "Epoch 22/30\n",
      "412/412 [==============================] - 245s 594ms/step - loss: 0.1604 - accuracy: 0.9630 - val_loss: 0.3462 - val_accuracy: 0.9620\n",
      "Epoch 23/30\n",
      "412/412 [==============================] - 255s 619ms/step - loss: 0.1641 - accuracy: 0.9620 - val_loss: 0.3206 - val_accuracy: 0.9620\n",
      "Epoch 24/30\n",
      "412/412 [==============================] - 258s 626ms/step - loss: 0.1663 - accuracy: 0.9611 - val_loss: 0.3155 - val_accuracy: 0.9620\n",
      "Epoch 25/30\n",
      "412/412 [==============================] - 253s 614ms/step - loss: 0.1588 - accuracy: 0.9635 - val_loss: 0.3082 - val_accuracy: 0.9620\n",
      "Epoch 26/30\n",
      "412/412 [==============================] - 235s 571ms/step - loss: 0.1611 - accuracy: 0.9627 - val_loss: 0.3154 - val_accuracy: 0.9620\n",
      "Epoch 27/30\n",
      "412/412 [==============================] - 202s 491ms/step - loss: 0.1748 - accuracy: 0.9585 - val_loss: 0.3169 - val_accuracy: 0.9620\n",
      "Epoch 28/30\n",
      "412/412 [==============================] - 201s 488ms/step - loss: 0.1716 - accuracy: 0.9596 - val_loss: 0.3172 - val_accuracy: 0.9620\n",
      "Epoch 29/30\n",
      "412/412 [==============================] - 201s 489ms/step - loss: 0.1667 - accuracy: 0.9611 - val_loss: 0.2829 - val_accuracy: 0.9620\n",
      "Epoch 30/30\n",
      "412/412 [==============================] - 207s 502ms/step - loss: 0.1624 - accuracy: 0.9624 - val_loss: 0.3071 - val_accuracy: 0.9620\n"
     ]
    }
   ],
   "source": [
    "# compile the model\n",
    "print(\"[INFO] compiling model...\")\n",
    "model.compile(loss=\"binary_crossentropy\", optimizer=\"adam\",\n",
    "metrics=[\"accuracy\"])\n",
    "# train the model\n",
    "print(\"[INFO] training model...\")\n",
    "history = model.fit(\n",
    "[trainX[:, 0], trainX[:, 1]],trainY[:],\n",
    "validation_data=([testX[:, 0], testX[:, 1]], testY[:]),\n",
    "batch_size=BATCH_SIZE, \n",
    "epochs=EPOCHS)"
   ]
  },
  {
   "cell_type": "code",
   "execution_count": 26,
   "metadata": {},
   "outputs": [
    {
     "name": "stdout",
     "output_type": "stream",
     "text": [
      "[INFO] saving siamese model...\n",
      "INFO:tensorflow:Assets written to: C:\\Users\\dwive\\Desktop\\output\\siamese_model\\assets\n"
     ]
    }
   ],
   "source": [
    "print(\"[INFO] saving siamese model...\")\n",
    "model.save(MODEL_PATH)"
   ]
  },
  {
   "cell_type": "code",
   "execution_count": 29,
   "metadata": {},
   "outputs": [],
   "source": [
    "# #load model\n",
    "# from tensorflow import keras\n",
    "# model = keras.models.load_model(MODEL_PATH)"
   ]
  },
  {
   "cell_type": "code",
   "execution_count": 30,
   "metadata": {},
   "outputs": [],
   "source": [
    "# print(\"[INFO] loading test dataset...\")\n",
    "# testImagePaths = list(list_images(args[\"input\"]))\n",
    "# np.random.seed(42)\n",
    "# pairs = np.random.choice(testImagePaths, size=(10, 2))\n",
    "# # load the model from disk\n",
    "# print(\"[INFO] loading siamese model...\")\n",
    "# model = load_model(MODEL_PATH)"
   ]
  },
  {
   "cell_type": "code",
   "execution_count": null,
   "metadata": {},
   "outputs": [],
   "source": []
  },
  {
   "cell_type": "code",
   "execution_count": 31,
   "metadata": {},
   "outputs": [],
   "source": [
    "# ap = argparse.ArgumentParser()\n",
    "# ap.add_argument(\"-i\", \"--input\", required=True,\n",
    "#     help=\"path to input directory of testing images\")\n",
    "# args = vars(ap.parse_args())"
   ]
  },
  {
   "cell_type": "code",
   "execution_count": 32,
   "metadata": {},
   "outputs": [],
   "source": [
    "# # loop over all image pairs\n",
    "# for (i, (pathA, pathB)) in enumerate(pairs):\n",
    "#     # load both the images and convert them to grayscale\n",
    "#     imageA = cv2.imread(pathA, 0)\n",
    "#     imageB = cv2.imread(pathB, 0)\n",
    "#     # create a copy of both the images for visualization purpose\n",
    "#     origA = imageA.copy()\n",
    "#     origB = imageB.copy()\n",
    "#     # add channel a dimension to both the images\n",
    "#     imageA = np.expand_dims(imageA, axis=-1)\n",
    "#     imageB = np.expand_dims(imageB, axis=-1)\n",
    "#     # add a batch dimension to both images\n",
    "#     imageA = np.expand_dims(imageA, axis=0)\n",
    "#     imageB = np.expand_dims(imageB, axis=0)\n",
    "#     # scale the pixel values to the range of [0, 1]\n",
    "#     imageA = imageA / 255.0\n",
    "#     imageB = imageB / 255.0\n",
    "#     # use our siamese model to make predictions on the image pair,\n",
    "#     # indicating whether or not the images belong to the same class\n",
    "#     preds = model.predict([imageA, imageB])\n",
    "#     proba = preds[0][0]"
   ]
  },
  {
   "cell_type": "code",
   "execution_count": 33,
   "metadata": {},
   "outputs": [],
   "source": [
    "# fig = plt.figure(\"Pair #{}\".format(i + 1), figsize=(4, 2))\n",
    "# plt.suptitle(\"Similarity: {:.2f}\".format(proba))\n",
    "# # show first image\n",
    "# ax = fig.add_subplot(1, 2, 1)\n",
    "# plt.imshow(origA, cmap=plt.cm.gray)\n",
    "# plt.axis(\"off\")\n",
    "# # show the second image\n",
    "# ax = fig.add_subplot(1, 2, 2)\n",
    "# plt.imshow(origB, cmap=plt.cm.gray)\n",
    "# plt.axis(\"off\")\n",
    "# # show the plot\n",
    "# plt.show()"
   ]
  },
  {
   "cell_type": "code",
   "execution_count": 41,
   "metadata": {},
   "outputs": [],
   "source": [
    "imageABC = cv2.imread(r\"C:\\Users\\dwive\\Desktop\\New folder (3)\\9.jpg\")\n",
    "imageBCD = cv2.imread(r\"C:\\Users\\dwive\\Desktop\\New folder (3)\\11.jpg\")\n",
    "# create a copy of both the images for visualization purpose\n",
    "origA = imageABC.copy()\n",
    "origB = imageBCD.copy()\n",
    "imageAB=cv2.cvtColor(imageABC,cv2.COLOR_BGR2GRAY)/pix_val\n",
    "imageBC=cv2.cvtColor(imageBCD,cv2.COLOR_BGR2GRAY)/pix_val\n",
    "\n",
    "# add channel a dimension to both the images\n",
    "imageA = np.expand_dims(imageAB, axis=-1)\n",
    "imageB = np.expand_dims(imageBC, axis=-1)\n",
    "imageA=np.array(imageA)\n",
    "imageB=np.array(imageB)\n",
    "# add a batch dimension to both images\n",
    "imageA = np.expand_dims(imageA, axis=0)\n",
    "imageB = np.expand_dims(imageB, axis=0)\n",
    "preds = model.predict([imageA, imageB])\n",
    "proba = preds[0][0]"
   ]
  },
  {
   "cell_type": "code",
   "execution_count": 42,
   "metadata": {},
   "outputs": [
    {
     "data": {
      "text/plain": [
       "0.23506364"
      ]
     },
     "execution_count": 42,
     "metadata": {},
     "output_type": "execute_result"
    }
   ],
   "source": [
    "proba"
   ]
  },
  {
   "cell_type": "code",
   "execution_count": 43,
   "metadata": {},
   "outputs": [
    {
     "data": {
      "image/png": "[encoded data removed]",
      "text/plain": [
       "<Figure size 288x144 with 2 Axes>"
      ]
     },
     "metadata": {
      "needs_background": "light"
     },
     "output_type": "display_data"
    }
   ],
   "source": [
    "fig = plt.figure(figsize=(4, 2))\n",
    "plt.suptitle(\"Similarity: {:.2f}\".format(proba))\n",
    "# show first image\n",
    "ax = fig.add_subplot(1, 2, 1)\n",
    "plt.imshow(origA, cmap=plt.cm.gray)\n",
    "plt.axis(\"off\")\n",
    "# show the second image\n",
    "ax = fig.add_subplot(1, 2, 2)\n",
    "plt.imshow(origB, cmap=plt.cm.gray)\n",
    "plt.axis(\"off\")\n",
    "# show the plot\n",
    "plt.show()"
   ]
  },
  {
   "cell_type": "code",
   "execution_count": null,
   "metadata": {},
   "outputs": [],
   "source": []
  }
 ],
 "metadata": {
  "kernelspec": {
   "display_name": "Python 3",
   "language": "python",
   "name": "python3"
  },
  "language_info": {
   "codemirror_mode": {
    "name": "ipython",
    "version": 3
   },
   "file_extension": ".py",
   "mimetype": "text/x-python",
   "name": "python",
   "nbconvert_exporter": "python",
   "pygments_lexer": "ipython3",
   "version": "3.7.6"
  }
 },
 "nbformat": 4,
 "nbformat_minor": 4
}
